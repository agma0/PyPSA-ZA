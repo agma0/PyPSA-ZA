{
 "cells": [
  {
   "cell_type": "code",
   "execution_count": 6,
   "metadata": {},
   "outputs": [],
   "source": [
    "import numpy as np\n",
    "import pandas as pd\n",
    "import geopandas as gpd\n",
    "import rasterio, rasterio.features, rasterio.mask\n",
    "import rasterstats\n",
    "import shapely.geometry"
   ]
  },
  {
   "cell_type": "code",
   "execution_count": 7,
   "metadata": {},
   "outputs": [],
   "source": [
    "import yaml\n",
    "\n",
    "with open(\"../config.yaml\", 'r') as stream:\n",
    "    try:\n",
    "        snake_yaml=yaml.safe_load(stream)\n",
    "    except yaml.YAMLError as exc:\n",
    "        print(exc)"
   ]
  },
  {
   "cell_type": "code",
   "execution_count": 8,
   "metadata": {},
   "outputs": [],
   "source": [
    "landuse = \"../resources/landuse_without_protected_conservation.tiff\"\n",
    "supply_regions = \"../data/supply_regions_new/RSA_single.shp\"\n",
    "resarea = \"../data/bundle/\" + snake_yaml['data']['resarea']['redz']\n",
    "raster = \"../resources/raster_wind_percent_redz.tiff\"\n",
    "area = \"../resources/area_wind_redz.csv\"\n",
    "\n",
    "area_crs = snake_yaml[\"crs\"][\"area_crs\"]"
   ]
  },
  {
   "cell_type": "code",
   "execution_count": 9,
   "metadata": {},
   "outputs": [],
   "source": [
    "# Translate the landuse file into a raster of percentages of available area\n",
    "landusetype_percent = snake_yaml['respotentials']['landusetype_percent']['wind']\n",
    "\n",
    "with rasterio.open(landuse) as src, rasterio.open(raster, 'w', **src.meta) as dst:\n",
    "\n",
    "    resareas = gpd.read_file(resarea).to_crs(src.crs)\n",
    "    regions = gpd.read_file(supply_regions).to_crs(src.crs)\n",
    "\n",
    "    stats = []\n",
    "\n",
    "    for region in regions.itertuples():\n",
    "        resareas_b = resareas.intersects(region.geometry)\n",
    "        if not resareas_b.any():\n",
    "            dst.write_band(1, dst_data, window=window)\n",
    "            stats.append({'mean': 0.})\n",
    "            continue\n",
    "\n",
    "        minx, miny, maxx, maxy = region.geometry.bounds\n",
    "        minx -= (maxx - minx)*0.05\n",
    "        maxx += (maxx - minx)*0.05\n",
    "        miny -= (maxy - miny)*0.05\n",
    "        maxy += (maxy - miny)*0.05\n",
    "\n",
    "        window = rasterio.windows.from_bounds(minx, miny, maxx, maxy, src.transform)\n",
    "        box = shapely.geometry.box(minx, miny, maxx, maxy)\n",
    "        transform = rasterio.windows.transform(window, src.transform)\n",
    "\n",
    "        src_data = src.read(1, window=window)\n",
    "        dst_data = np.zeros_like(src_data)\n",
    "\n",
    "        for grid_codes, value in landusetype_percent:\n",
    "            dst_data.ravel()[np.in1d(src_data.ravel(), grid_codes)] = value\n",
    "\n",
    "        mask = rasterio.mask.geometry_mask(resareas.loc[resareas_b, 'geometry'], dst_data.shape, transform)\n",
    "        dst_data = np.ma.array(dst_data, mask=mask, fill_value=0).filled()\n",
    "\n",
    "        dst.write_band(1, dst_data, window=window)\n",
    "\n",
    "        stats.extend(rasterstats.zonal_stats(region.geometry, dst_data, affine=transform,\n",
    "                                             nodata=-999, stats='mean'))\n",
    "\n",
    "    stats = pd.DataFrame(stats)\n",
    "\n",
    "    stats['area_ratio'] = stats.pop('mean') / 100\n",
    "    stats['area'] = regions.to_crs(area_crs).area/1e6 # albert equal area has area in m^2\n",
    "    stats['available_area'] = stats['area_ratio'] * stats['area']\n",
    "\n",
    "    #stats.set_index(regions.name).to_csv(snakemake.output.area)\n"
   ]
  },
  {
   "cell_type": "code",
   "execution_count": 11,
   "metadata": {},
   "outputs": [
    {
     "data": {
      "text/html": [
       "<div>\n",
       "<style scoped>\n",
       "    .dataframe tbody tr th:only-of-type {\n",
       "        vertical-align: middle;\n",
       "    }\n",
       "\n",
       "    .dataframe tbody tr th {\n",
       "        vertical-align: top;\n",
       "    }\n",
       "\n",
       "    .dataframe thead th {\n",
       "        text-align: right;\n",
       "    }\n",
       "</style>\n",
       "<table border=\"1\" class=\"dataframe\">\n",
       "  <thead>\n",
       "    <tr style=\"text-align: right;\">\n",
       "      <th></th>\n",
       "      <th>area_ratio</th>\n",
       "      <th>area</th>\n",
       "      <th>available_area</th>\n",
       "    </tr>\n",
       "  </thead>\n",
       "  <tbody>\n",
       "    <tr>\n",
       "      <th>0</th>\n",
       "      <td>0.042929</td>\n",
       "      <td>1.225173e+06</td>\n",
       "      <td>52595.71358</td>\n",
       "    </tr>\n",
       "  </tbody>\n",
       "</table>\n",
       "</div>"
      ],
      "text/plain": [
       "   area_ratio          area  available_area\n",
       "0    0.042929  1.225173e+06     52595.71358"
      ]
     },
     "execution_count": 11,
     "metadata": {},
     "output_type": "execute_result"
    }
   ],
   "source": [
    "stats"
   ]
  }
 ],
 "metadata": {
  "kernelspec": {
   "display_name": "Python 3.9.13 ('pypsa-eur')",
   "language": "python",
   "name": "python3"
  },
  "language_info": {
   "codemirror_mode": {
    "name": "ipython",
    "version": 3
   },
   "file_extension": ".py",
   "mimetype": "text/x-python",
   "name": "python",
   "nbconvert_exporter": "python",
   "pygments_lexer": "ipython3",
   "version": "3.9.13"
  },
  "orig_nbformat": 4,
  "vscode": {
   "interpreter": {
    "hash": "176109d3748470a01cf7c657233c4e326b36b49ffa10510176569af47614a650"
   }
  }
 },
 "nbformat": 4,
 "nbformat_minor": 2
}
