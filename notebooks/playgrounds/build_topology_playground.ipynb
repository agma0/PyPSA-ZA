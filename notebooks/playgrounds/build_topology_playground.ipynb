{
 "cells": [
  {
   "cell_type": "code",
   "execution_count": 1,
   "metadata": {},
   "outputs": [],
   "source": [
    "# coding: utf-8\n",
    "\n",
    "import networkx as nx\n",
    "import pandas as pd\n",
    "import fiona\n",
    "import geopandas as gpd\n",
    "import numpy as np\n",
    "from operator import attrgetter\n",
    "\n",
    "from vresutils.costdata import annuity\n",
    "from vresutils.shapes import haversine\n"
   ]
  },
  {
   "cell_type": "code",
   "execution_count": 2,
   "metadata": {},
   "outputs": [],
   "source": [
    "# rule build_topology:\n",
    "#     input:\n",
    "#         supply_regions='data/supply_regions/supply_regions.shp',\n",
    "#         centroids='data/supply_regions/centroids.shp',\n",
    "#         num_lines='data/num_lines.csv'\n",
    "#     output:\n",
    "#         buses='resources/buses.csv',\n",
    "#         lines='resources/lines.csv'\n",
    "#     threads: 1\n",
    "#     script: \"scripts/build_topology.py\""
   ]
  },
  {
   "cell_type": "code",
   "execution_count": 3,
   "metadata": {},
   "outputs": [],
   "source": [
    "import yaml\n",
    "with open(\"../config.yaml\", 'r') as stream:\n",
    "    try:\n",
    "        snakemake_config=yaml.safe_load(stream)\n",
    "    except yaml.YAMLError as exc:\n",
    "        print(exc)\n",
    "        \n",
    "snakemake_input_supply_regions='../data/supply_regions/supply_regions.shp'\n",
    "snakemake_input_supply_regions='../data/supply_regions_new/RSA_single.shp'\n",
    "snakemake_input_centroids='../data/supply_regions/centroids.shp'\n",
    "snakemake_input_centroids='../data/supply_regions_new/centroid_RSA_single.shp'\n",
    "snakemake_input_num_lines='../data/num_lines.csv'\n"
   ]
  },
  {
   "cell_type": "code",
   "execution_count": 8,
   "metadata": {},
   "outputs": [],
   "source": [
    "## Read in regions and calculate population per region\n",
    "regions = gpd.read_file(snakemake_input_supply_regions)[['name', 'geometry']]\n",
    "centroids = gpd.read_file(snakemake_input_centroids).set_index('name')['geometry']\n",
    "\n"
   ]
  },
  {
   "cell_type": "code",
   "execution_count": null,
   "metadata": {},
   "outputs": [],
   "source": [
    "def edges_between_touching_regions(regions):\n",
    "    G = nx.Graph()\n",
    "    G.add_nodes_from(regions.index)\n",
    "    for r in regions.itertuples():\n",
    "        neighs = regions.index[regions.touches(r.geometry)]\n",
    "        G.add_edges_from((r.Index, r2_name) for r2_name in neighs.values)\n",
    "    return G.edges()"
   ]
  },
  {
   "cell_type": "code",
   "execution_count": 11,
   "metadata": {},
   "outputs": [
    {
     "ename": "IndexError",
     "evalue": "too many indices for array: array is 1-dimensional, but 2 were indexed",
     "output_type": "error",
     "traceback": [
      "\u001b[0;31m---------------------------------------------------------------------------\u001b[0m",
      "\u001b[0;31mIndexError\u001b[0m                                Traceback (most recent call last)",
      "\u001b[1;32m/mnt/d/GitHub/pypsa-za/scripts/build_topology_playground.ipynb Cell 6\u001b[0m in \u001b[0;36m<cell line: 30>\u001b[0;34m()\u001b[0m\n\u001b[1;32m     <a href='vscode-notebook-cell://wsl%2Bubuntu/mnt/d/GitHub/pypsa-za/scripts/build_topology_playground.ipynb#W6sdnNjb2RlLXJlbW90ZQ%3D%3D?line=27'>28</a>\u001b[0m \u001b[39mdef\u001b[39;00m \u001b[39masarray\u001b[39m(x): \u001b[39mreturn\u001b[39;00m np\u001b[39m.\u001b[39masarray(\u001b[39mlist\u001b[39m(\u001b[39mmap\u001b[39m(np\u001b[39m.\u001b[39masarray, x)))\n\u001b[1;32m     <a href='vscode-notebook-cell://wsl%2Bubuntu/mnt/d/GitHub/pypsa-za/scripts/build_topology_playground.ipynb#W6sdnNjb2RlLXJlbW90ZQ%3D%3D?line=28'>29</a>\u001b[0m lines \u001b[39m=\u001b[39m pd\u001b[39m.\u001b[39mDataFrame(\u001b[39mlist\u001b[39m(edges_between_touching_regions(regions)), columns\u001b[39m=\u001b[39m[\u001b[39m'\u001b[39m\u001b[39mbus0\u001b[39m\u001b[39m'\u001b[39m, \u001b[39m'\u001b[39m\u001b[39mbus1\u001b[39m\u001b[39m'\u001b[39m])\n\u001b[0;32m---> <a href='vscode-notebook-cell://wsl%2Bubuntu/mnt/d/GitHub/pypsa-za/scripts/build_topology_playground.ipynb#W6sdnNjb2RlLXJlbW90ZQ%3D%3D?line=29'>30</a>\u001b[0m lines[\u001b[39m'\u001b[39m\u001b[39mlength\u001b[39m\u001b[39m'\u001b[39m] \u001b[39m=\u001b[39m haversine(asarray(lines\u001b[39m.\u001b[39;49mbus0\u001b[39m.\u001b[39;49mmap(centroids)),\n\u001b[1;32m     <a href='vscode-notebook-cell://wsl%2Bubuntu/mnt/d/GitHub/pypsa-za/scripts/build_topology_playground.ipynb#W6sdnNjb2RlLXJlbW90ZQ%3D%3D?line=30'>31</a>\u001b[0m                             asarray(lines\u001b[39m.\u001b[39;49mbus1\u001b[39m.\u001b[39;49mmap(centroids))) \u001b[39m*\u001b[39m line_config[\u001b[39m'\u001b[39m\u001b[39mlength_factor\u001b[39m\u001b[39m'\u001b[39m]\n\u001b[1;32m     <a href='vscode-notebook-cell://wsl%2Bubuntu/mnt/d/GitHub/pypsa-za/scripts/build_topology_playground.ipynb#W6sdnNjb2RlLXJlbW90ZQ%3D%3D?line=32'>33</a>\u001b[0m num_lines \u001b[39m=\u001b[39m pd\u001b[39m.\u001b[39mread_csv(snakemake_input_num_lines, index_col\u001b[39m=\u001b[39m\u001b[39m0\u001b[39m)\u001b[39m.\u001b[39mset_index([\u001b[39m'\u001b[39m\u001b[39mbus0\u001b[39m\u001b[39m'\u001b[39m, \u001b[39m'\u001b[39m\u001b[39mbus1\u001b[39m\u001b[39m'\u001b[39m])\n\u001b[1;32m     <a href='vscode-notebook-cell://wsl%2Bubuntu/mnt/d/GitHub/pypsa-za/scripts/build_topology_playground.ipynb#W6sdnNjb2RlLXJlbW90ZQ%3D%3D?line=33'>34</a>\u001b[0m num_parallel \u001b[39m=\u001b[39m \u001b[39msum\u001b[39m(num_lines[\u001b[39m'\u001b[39m\u001b[39mnum_parallel_\u001b[39m\u001b[39m{}\u001b[39;00m\u001b[39m'\u001b[39m\u001b[39m.\u001b[39mformat(\u001b[39mint\u001b[39m(v))] \u001b[39m*\u001b[39m (v\u001b[39m/\u001b[39mv_nom)\u001b[39m*\u001b[39m\u001b[39m*\u001b[39m\u001b[39m2\u001b[39m\n\u001b[1;32m     <a href='vscode-notebook-cell://wsl%2Bubuntu/mnt/d/GitHub/pypsa-za/scripts/build_topology_playground.ipynb#W6sdnNjb2RlLXJlbW90ZQ%3D%3D?line=34'>35</a>\u001b[0m                     \u001b[39mfor\u001b[39;00m v \u001b[39min\u001b[39;00m (\u001b[39m275\u001b[39m, \u001b[39m400\u001b[39m, \u001b[39m765\u001b[39m))\n",
      "File \u001b[0;32m~/anaconda3/envs/pypsa-eur/lib/python3.9/site-packages/vresutils/shapes.py:47\u001b[0m, in \u001b[0;36mhaversine\u001b[0;34m(a0, a1)\u001b[0m\n\u001b[1;32m     45\u001b[0m \u001b[39mdef\u001b[39;00m \u001b[39mhaversine\u001b[39m(a0, a1):\n\u001b[1;32m     46\u001b[0m     a0, a1 \u001b[39m=\u001b[39m np\u001b[39m.\u001b[39mdeg2rad([a0, a1])\n\u001b[0;32m---> 47\u001b[0m     a \u001b[39m=\u001b[39m np\u001b[39m.\u001b[39msin((a1[:,\u001b[39m1\u001b[39;49m]\u001b[39m-\u001b[39ma0[:,\u001b[39m1\u001b[39m])\u001b[39m/\u001b[39m\u001b[39m2.\u001b[39m)\u001b[39m*\u001b[39m\u001b[39m*\u001b[39m\u001b[39m2\u001b[39m \u001b[39m+\u001b[39m np\u001b[39m.\u001b[39mcos(a0[:,\u001b[39m1\u001b[39m]) \u001b[39m*\u001b[39m np\u001b[39m.\u001b[39mcos(a1[:,\u001b[39m1\u001b[39m]) \u001b[39m*\u001b[39m np\u001b[39m.\u001b[39msin((a0[:,\u001b[39m0\u001b[39m] \u001b[39m-\u001b[39m a1[:,\u001b[39m0\u001b[39m])\u001b[39m/\u001b[39m\u001b[39m2.\u001b[39m)\u001b[39m*\u001b[39m\u001b[39m*\u001b[39m\u001b[39m2\u001b[39m\n\u001b[1;32m     48\u001b[0m     \u001b[39mreturn\u001b[39;00m \u001b[39m6371.000\u001b[39m \u001b[39m*\u001b[39m \u001b[39m2\u001b[39m \u001b[39m*\u001b[39m np\u001b[39m.\u001b[39marctan2( np\u001b[39m.\u001b[39msqrt(a), np\u001b[39m.\u001b[39msqrt(\u001b[39m1\u001b[39m\u001b[39m-\u001b[39ma) )\n",
      "\u001b[0;31mIndexError\u001b[0m: too many indices for array: array is 1-dimensional, but 2 were indexed"
     ]
    }
   ],
   "source": [
    "\n",
    "# Slighly Moved centroids of NAMAQUALAND and PRETORIA manually so that they are within the shapes\n",
    "\n",
    "\n",
    "# touching regions are connected by lines, we use nx to take care of all the double countings efficiently\n",
    "\n",
    "def edges_between_touching_regions(regions):\n",
    "    G = nx.Graph()\n",
    "    G.add_nodes_from(regions.index)\n",
    "    for r in regions.itertuples():\n",
    "        neighs = regions.index[regions.touches(r.geometry)]\n",
    "        G.add_edges_from((r.Index, r2_name) for r2_name in neighs.values)\n",
    "    return G.edges()\n",
    "\n",
    "regions = regions.set_index('name')\n",
    "\n",
    "line_config = snakemake_config['lines']\n",
    "v_nom = line_config['v_nom']\n",
    "\n",
    "buses = (regions\n",
    "            .assign(\n",
    "                x=centroids.map(attrgetter('x')),\n",
    "                y=centroids.map(attrgetter('y')),\n",
    "                v_nom=v_nom\n",
    "            )\n",
    "            .drop('geometry', axis=1))\n",
    "\n",
    "# Lines from touching regions\n",
    "def asarray(x): return np.asarray(list(map(np.asarray, x)))\n",
    "lines = pd.DataFrame(list(edges_between_touching_regions(regions)), columns=['bus0', 'bus1'])\n",
    "lines['length'] = haversine(asarray(lines.bus0.map(centroids)),\n",
    "                            asarray(lines.bus1.map(centroids))) * line_config['length_factor']\n",
    "\n",
    "num_lines = pd.read_csv(snakemake_input_num_lines, index_col=0).set_index(['bus0', 'bus1'])\n",
    "num_parallel = sum(num_lines['num_parallel_{}'.format(int(v))] * (v/v_nom)**2\n",
    "                    for v in (275, 400, 765))\n",
    "\n",
    "lines = (lines\n",
    "            .join(num_parallel.rename('num_parallel'), on=['bus0', 'bus1'])\n",
    "            .join(num_parallel.rename(\"num_parallel_i\"), on=['bus1', 'bus0']))\n",
    "\n",
    "lines['num_parallel'] = line_config['s_nom_factor'] * lines['num_parallel'].fillna(lines.pop('num_parallel_i'))\n",
    "\n",
    "\n"
   ]
  },
  {
   "cell_type": "code",
   "execution_count": 15,
   "metadata": {},
   "outputs": [
    {
     "data": {
      "text/plain": [
       "1"
      ]
     },
     "execution_count": 15,
     "metadata": {},
     "output_type": "execute_result"
    }
   ],
   "source": [
    "len(buses)"
   ]
  },
  {
   "cell_type": "code",
   "execution_count": 18,
   "metadata": {},
   "outputs": [],
   "source": [
    "lines=pd.DataFrame(index=[],columns=['name','bus0','bus1','length','num_parallel'])\n"
   ]
  },
  {
   "cell_type": "code",
   "execution_count": 19,
   "metadata": {},
   "outputs": [
    {
     "data": {
      "text/html": [
       "<div>\n",
       "<style scoped>\n",
       "    .dataframe tbody tr th:only-of-type {\n",
       "        vertical-align: middle;\n",
       "    }\n",
       "\n",
       "    .dataframe tbody tr th {\n",
       "        vertical-align: top;\n",
       "    }\n",
       "\n",
       "    .dataframe thead th {\n",
       "        text-align: right;\n",
       "    }\n",
       "</style>\n",
       "<table border=\"1\" class=\"dataframe\">\n",
       "  <thead>\n",
       "    <tr style=\"text-align: right;\">\n",
       "      <th></th>\n",
       "      <th>name</th>\n",
       "      <th>bus0</th>\n",
       "      <th>bus1</th>\n",
       "      <th>length</th>\n",
       "      <th>num_parallel</th>\n",
       "    </tr>\n",
       "  </thead>\n",
       "  <tbody>\n",
       "  </tbody>\n",
       "</table>\n",
       "</div>"
      ],
      "text/plain": [
       "Empty DataFrame\n",
       "Columns: [name, bus0, bus1, length, num_parallel]\n",
       "Index: []"
      ]
     },
     "execution_count": 19,
     "metadata": {},
     "output_type": "execute_result"
    }
   ],
   "source": [
    "lines"
   ]
  },
  {
   "cell_type": "code",
   "execution_count": null,
   "metadata": {},
   "outputs": [],
   "source": [
    "buses, lines = build_topology()\n",
    "\n",
    "#buses.to_csv(snakemake.output.buses)\n",
    "#lines.to_csv(snakemake.output.lines)"
   ]
  },
  {
   "cell_type": "code",
   "execution_count": null,
   "metadata": {},
   "outputs": [
    {
     "ename": "NameError",
     "evalue": "name 'regions' is not defined",
     "output_type": "error",
     "traceback": [
      "\u001b[0;31m---------------------------------------------------------------------------\u001b[0m",
      "\u001b[0;31mNameError\u001b[0m                                 Traceback (most recent call last)",
      "\u001b[1;32m/mnt/d/GitHub/pypsa-za/scripts/build_topology_playground.ipynb Cell 6\u001b[0m in \u001b[0;36m<cell line: 1>\u001b[0;34m()\u001b[0m\n\u001b[0;32m----> <a href='vscode-notebook-cell://wsl%2Bubuntu/mnt/d/GitHub/pypsa-za/scripts/build_topology_playground.ipynb#X14sdnNjb2RlLXJlbW90ZQ%3D%3D?line=0'>1</a>\u001b[0m regions\n",
      "\u001b[0;31mNameError\u001b[0m: name 'regions' is not defined"
     ]
    }
   ],
   "source": [
    "regions"
   ]
  },
  {
   "cell_type": "code",
   "execution_count": null,
   "metadata": {},
   "outputs": [],
   "source": [
    "\"D:\\GitHub\\pypsa-za\\data\\supply_regions_new\\zaf_admbnda_adm0_sadb_ocha_20201109.shp\""
   ]
  }
 ],
 "metadata": {
  "kernelspec": {
   "display_name": "Python 3.9.13 ('pypsa-eur')",
   "language": "python",
   "name": "python3"
  },
  "language_info": {
   "codemirror_mode": {
    "name": "ipython",
    "version": 3
   },
   "file_extension": ".py",
   "mimetype": "text/x-python",
   "name": "python",
   "nbconvert_exporter": "python",
   "pygments_lexer": "ipython3",
   "version": "3.9.13"
  },
  "orig_nbformat": 4,
  "vscode": {
   "interpreter": {
    "hash": "176109d3748470a01cf7c657233c4e326b36b49ffa10510176569af47614a650"
   }
  }
 },
 "nbformat": 4,
 "nbformat_minor": 2
}
