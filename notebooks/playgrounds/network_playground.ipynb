{
 "cells": [
  {
   "cell_type": "code",
   "execution_count": 73,
   "metadata": {},
   "outputs": [],
   "source": [
    "# coding: utf-8\n",
    "import logging\n",
    "import os\n",
    "\n",
    "import geopandas as gpd\n",
    "import numpy as np\n",
    "import pandas as pd\n",
    "import powerplantmatching as pm\n",
    "import pypsa\n",
    "import xarray as xr\n",
    "#from _helpers import configure_logging, getContinent, update_p_nom_max, pdbcast\n",
    "from shapely.validation import make_valid\n",
    "from shapely.geometry import Point\n",
    "from vresutils import transfer as vtransfer\n",
    "\n",
    "idx = pd.IndexSlice"
   ]
  },
  {
   "cell_type": "code",
   "execution_count": 70,
   "metadata": {},
   "outputs": [],
   "source": [
    "import yaml\n",
    "with open(\"../config.yaml\", 'r') as stream:\n",
    "    try:\n",
    "        snakemake_config=yaml.safe_load(stream)\n",
    "    except yaml.YAMLError as exc:\n",
    "        print(exc)"
   ]
  },
  {
   "cell_type": "code",
   "execution_count": 154,
   "metadata": {},
   "outputs": [
    {
     "name": "stderr",
     "output_type": "stream",
     "text": [
      "INFO:pypsa.io:Imported network csir-aggressive_RSA_redz_lcopt_LC.nc has buses, carriers, generators, loads, storage_units\n"
     ]
    }
   ],
   "source": [
    "#n= pypsa.Network('../networks/pre_csir-aggressive_RSA_redz_lcopt_LC-2000SEG.nc')\n",
    "n= pypsa.Network('../results/version-0.6/networks/csir-aggressive_RSA_redz_lcopt_LC.nc')\n"
   ]
  },
  {
   "cell_type": "code",
   "execution_count": 155,
   "metadata": {},
   "outputs": [
    {
     "data": {
      "text/plain": [
       "849996.925404542"
      ]
     },
     "execution_count": 155,
     "metadata": {},
     "output_type": "execute_result"
    }
   ],
   "source": [
    "n.generators.capital_cost['RSA onwind']"
   ]
  },
  {
   "cell_type": "code",
   "execution_count": 158,
   "metadata": {},
   "outputs": [
    {
     "data": {
      "text/plain": [
       "Generator\n",
       "Kendal            5.940000e+05\n",
       "Lethabo           5.940000e+05\n",
       "MajubaDry         5.940000e+05\n",
       "MajubaWet         5.940000e+05\n",
       "Matimba           5.940000e+05\n",
       "Medupi            4.700000e+06\n",
       "Tutuka            5.940000e+05\n",
       "Koeberg           9.680000e+05\n",
       "Municipal_Coal    0.000000e+00\n",
       "Sasol_SSF         0.000000e+00\n",
       "RSA onwind        8.499969e+05\n",
       "RSA solar         8.867849e+05\n",
       "RSA CCGT          1.021601e+06\n",
       "RSA OCGT          1.032474e+06\n",
       "RSA coal          3.655913e+06\n",
       "RSA nuclear       4.992154e+06\n",
       "RSA load          0.000000e+00\n",
       "Name: capital_cost, dtype: float64"
      ]
     },
     "execution_count": 158,
     "metadata": {},
     "output_type": "execute_result"
    }
   ],
   "source": [
    "n.generators.capital_cost"
   ]
  },
  {
   "cell_type": "code",
   "execution_count": 159,
   "metadata": {},
   "outputs": [
    {
     "data": {
      "text/plain": [
       "StorageUnit\n",
       "Drakensberg      2.010000e+05\n",
       "Ingula           2.530000e+06\n",
       "Palmiet          2.010000e+05\n",
       "Gariep           0.000000e+00\n",
       "Vanderkloof      0.000000e+00\n",
       "ColleyWobbles    0.000000e+00\n",
       "Steenbras        0.000000e+00\n",
       "CahoraBassa      0.000000e+00\n",
       "RSA battery      1.083978e+05\n",
       "Name: capital_cost, dtype: float64"
      ]
     },
     "execution_count": 159,
     "metadata": {},
     "output_type": "execute_result"
    }
   ],
   "source": [
    "n.storage_units.capital_cost"
   ]
  },
  {
   "cell_type": "code",
   "execution_count": 146,
   "metadata": {},
   "outputs": [
    {
     "data": {
      "text/plain": [
       "Owner                       Eskom\n",
       "carrier                      coal\n",
       "p_nom                      3840.0\n",
       "y                       -26.08805\n",
       "x                        28.96888\n",
       "efficiency               0.306305\n",
       "marginal_cost           275.61497\n",
       "capital_cost             594000.0\n",
       "ramp_limit_up            0.028125\n",
       "bus                           RSA\n",
       "p_nom_extendable            False\n",
       "p_nom_max                     inf\n",
       "control                     Slack\n",
       "sign                          1.0\n",
       "p_nom_opt                  3840.0\n",
       "type                             \n",
       "p_nom_min                     0.0\n",
       "p_min_pu                      0.0\n",
       "p_max_pu                      1.0\n",
       "p_set                         0.0\n",
       "q_set                         0.0\n",
       "build_year                      0\n",
       "lifetime                      inf\n",
       "committable                 False\n",
       "start_up_cost                 0.0\n",
       "shut_down_cost                0.0\n",
       "min_up_time                     0\n",
       "min_down_time                   0\n",
       "up_time_before                  1\n",
       "down_time_before                0\n",
       "ramp_limit_down               NaN\n",
       "ramp_limit_start_up           1.0\n",
       "ramp_limit_shut_down          1.0\n",
       "Name: Kendal, dtype: object"
      ]
     },
     "execution_count": 146,
     "metadata": {},
     "output_type": "execute_result"
    }
   ],
   "source": [
    "n.generators.loc['Kendal',:]"
   ]
  },
  {
   "cell_type": "code",
   "execution_count": 147,
   "metadata": {},
   "outputs": [
    {
     "data": {
      "text/plain": [
       "Owner                                \n",
       "carrier                          coal\n",
       "p_nom                             0.0\n",
       "y                                 NaN\n",
       "x                                 NaN\n",
       "efficiency                      0.464\n",
       "marginal_cost              376.747027\n",
       "capital_cost            2094704.43397\n",
       "ramp_limit_up                     NaN\n",
       "bus                               RSA\n",
       "p_nom_extendable                 True\n",
       "p_nom_max                         inf\n",
       "control                            PQ\n",
       "sign                              1.0\n",
       "p_nom_opt                         0.0\n",
       "type                                 \n",
       "p_nom_min                         0.0\n",
       "p_min_pu                          0.0\n",
       "p_max_pu                          1.0\n",
       "p_set                             0.0\n",
       "q_set                             0.0\n",
       "build_year                          0\n",
       "lifetime                          inf\n",
       "committable                     False\n",
       "start_up_cost                     0.0\n",
       "shut_down_cost                    0.0\n",
       "min_up_time                         0\n",
       "min_down_time                       0\n",
       "up_time_before                      1\n",
       "down_time_before                    0\n",
       "ramp_limit_down                   NaN\n",
       "ramp_limit_start_up               1.0\n",
       "ramp_limit_shut_down              1.0\n",
       "Name: RSA coal, dtype: object"
      ]
     },
     "execution_count": 147,
     "metadata": {},
     "output_type": "execute_result"
    }
   ],
   "source": [
    "n.generators.loc['RSA coal',:]"
   ]
  },
  {
   "cell_type": "code",
   "execution_count": 3,
   "metadata": {},
   "outputs": [
    {
     "name": "stderr",
     "output_type": "stream",
     "text": [
      "INFO:pypsa.io:Imported network csir-aggressive_redz_E_LC_27-supply.nc has buses, carriers, generators, lines, loads, storage_units\n"
     ]
    }
   ],
   "source": [
    "n= pypsa.Network('../results/version-0.5/networks/csir-aggressive_redz_E_LC_27-supply.nc')"
   ]
  },
  {
   "cell_type": "code",
   "execution_count": 66,
   "metadata": {},
   "outputs": [
    {
     "data": {
      "text/plain": [
       "StorageUnit\n",
       "Drakensberg          PHS\n",
       "Ingula               PHS\n",
       "Palmiet              PHS\n",
       "Gariep             hydro\n",
       "Vanderkloof        hydro\n",
       "ColleyWobbles      hydro\n",
       "Steenbras            PHS\n",
       "CahoraBassa        hydro\n",
       "RSA battery      battery\n",
       "Name: carrier, dtype: object"
      ]
     },
     "execution_count": 66,
     "metadata": {},
     "output_type": "execute_result"
    }
   ],
   "source": [
    "n.storage_units.carrier"
   ]
  },
  {
   "cell_type": "code",
   "execution_count": 68,
   "metadata": {},
   "outputs": [
    {
     "data": {
      "text/plain": [
       "StorageUnit\n",
       "Drakensberg      0.858487\n",
       "Ingula           0.883176\n",
       "Palmiet          0.882610\n",
       "Gariep           1.000000\n",
       "Vanderkloof      1.000000\n",
       "ColleyWobbles    1.000000\n",
       "Steenbras        0.848528\n",
       "CahoraBassa      1.000000\n",
       "RSA battery           NaN\n",
       "Name: efficiency_dispatch, dtype: float64"
      ]
     },
     "execution_count": 68,
     "metadata": {},
     "output_type": "execute_result"
    }
   ],
   "source": [
    "n.storage_units.efficiency_dispatch"
   ]
  },
  {
   "cell_type": "code",
   "execution_count": null,
   "metadata": {},
   "outputs": [],
   "source": []
  }
 ],
 "metadata": {
  "kernelspec": {
   "display_name": "Python 3.9.13 ('pypsa-eur')",
   "language": "python",
   "name": "python3"
  },
  "language_info": {
   "codemirror_mode": {
    "name": "ipython",
    "version": 3
   },
   "file_extension": ".py",
   "mimetype": "text/x-python",
   "name": "python",
   "nbconvert_exporter": "python",
   "pygments_lexer": "ipython3",
   "version": "3.9.13"
  },
  "orig_nbformat": 4,
  "vscode": {
   "interpreter": {
    "hash": "176109d3748470a01cf7c657233c4e326b36b49ffa10510176569af47614a650"
   }
  }
 },
 "nbformat": 4,
 "nbformat_minor": 2
}
